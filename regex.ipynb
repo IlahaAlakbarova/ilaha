{
 "cells": [
  {
   "cell_type": "markdown",
   "metadata": {
    "id": "FlXmR9sprBiN"
   },
   "source": [
    "A RegEx, or Regular Expression, is a sequence of characters that forms a search pattern.\n",
    "\n",
    "RegEx can be used to check if a string contains the specified search pattern."
   ]
  },
  {
   "cell_type": "code",
   "execution_count": null,
   "metadata": {
    "id": "-7ZMKeWCrBiZ"
   },
   "outputs": [],
   "source": []
  },
  {
   "cell_type": "markdown",
   "metadata": {
    "id": "i20cy-qUrBia"
   },
   "source": [
    "<b>Regexes in Python and Their Uses</b><br>\n",
    "Imagine you have a string object s. Now suppose you need to write Python code to find out whether s contains the substring '123'. There are at least a couple ways to do this. You could use the in operator:\n",
    "\n"
   ]
  },
  {
   "cell_type": "code",
   "execution_count": null,
   "metadata": {
    "colab": {
     "base_uri": "https://localhost:8080/"
    },
    "id": "6p4IFyYxrBib",
    "outputId": "a90d8319-eb4d-411d-90e7-cac31a55923c"
   },
   "outputs": [
    {
     "name": "stdout",
     "output_type": "stream",
     "text": [
      "True\n"
     ]
    }
   ],
   "source": [
    "s = 'foo123bar'\n",
    "print('123' in s)"
   ]
  },
  {
   "cell_type": "markdown",
   "metadata": {
    "id": "sTbfbF9ErBic"
   },
   "source": [
    "If you want to know not only whether '123' exists in s but also where it exists, then you can use .find() or .index(). Each of these returns the character position within s where the substring resides:"
   ]
  },
  {
   "cell_type": "code",
   "execution_count": null,
   "metadata": {
    "colab": {
     "base_uri": "https://localhost:8080/"
    },
    "id": "bLOjdPlDrBid",
    "outputId": "adebd827-9871-4c75-bfac-56a42505fc8e"
   },
   "outputs": [
    {
     "name": "stdout",
     "output_type": "stream",
     "text": [
      "3\n",
      "3\n"
     ]
    }
   ],
   "source": [
    "s = 'foo123bar'\n",
    "print(s.find('123'))\n",
    "print(s.index('123'))"
   ]
  },
  {
   "cell_type": "markdown",
   "metadata": {
    "id": "OdtIQ1eCrBid"
   },
   "source": [
    "In these examples, the matching is done by a straightforward character-by-character comparison. That will get the job done in many cases. But sometimes, the problem is more complicated than that.\n",
    "\n",
    "For example, rather than searching for a fixed substring like '123', suppose you wanted to determine whether a string contains any three consecutive decimal digit characters, as in the strings 'foo123bar', 'foo456bar', '234baz', and 'qux678'."
   ]
  },
  {
   "cell_type": "markdown",
   "metadata": {
    "id": "KxUT2DjXrBie"
   },
   "source": [
    "<b>The re Module</b><br>\n",
    "Regex functionality in Python resides in a module named re. The re module contains many useful functions and methods, most of which you’ll learn about in the next tutorial in this series."
   ]
  },
  {
   "cell_type": "code",
   "execution_count": null,
   "metadata": {
    "id": "_xzHfRmSrBie"
   },
   "outputs": [],
   "source": []
  },
  {
   "cell_type": "markdown",
   "metadata": {
    "id": "r3IJC07YrBie"
   },
   "source": [
    "RegEx Module\n",
    "Python has a built-in package called re, fffff which can be used to work with Regular Expressions.\n",
    "\n",
    "Import the re module:"
   ]
  },
  {
   "cell_type": "code",
   "execution_count": null,
   "metadata": {
    "id": "tHkrcMUMrBif"
   },
   "outputs": [],
   "source": [
    "import re"
   ]
  },
  {
   "cell_type": "code",
   "execution_count": null,
   "metadata": {
    "colab": {
     "base_uri": "https://localhost:8080/"
    },
    "id": "kYh1yqKOrBif",
    "outputId": "180ba5c0-0c17-4cba-8d52-d7c6db3af12d"
   },
   "outputs": [
    {
     "name": "stdout",
     "output_type": "stream",
     "text": [
      "YES! We have a match!\n"
     ]
    }
   ],
   "source": [
    "# Search the string to see if it starts with \"The\" and ends with \"Spain\":\n",
    "\n",
    "txt = \"Ali Huseynoglu bugun Bakiya gelir\"\n",
    "x = re.search(\"^Ali.*gelir$\", txt)\n",
    "\n",
    "if x is not None:\n",
    "  print(\"YES! We have a match!\")\n",
    "else:\n",
    "  print(\"No match\")"
   ]
  },
  {
   "cell_type": "code",
   "execution_count": null,
   "metadata": {
    "id": "GIf83N_ErBig"
   },
   "outputs": [],
   "source": []
  },
  {
   "cell_type": "markdown",
   "metadata": {
    "id": "xoshHpVNrBii"
   },
   "source": [
    "<b>RegEx Functions</b><br>\n",
    "The re module offers a set of functions that allows us to search a string for a match:"
   ]
  },
  {
   "cell_type": "markdown",
   "metadata": {
    "id": "rck5hO3YrBij"
   },
   "source": [
    "findall -> Returns a list containing all matches"
   ]
  },
  {
   "cell_type": "markdown",
   "metadata": {
    "id": "qUjhXg3NrBij"
   },
   "source": [
    "\n",
    "re.findall(regex, string) \n",
    "\n",
    "**returns a list** of all non-overlapping matches of regex in string. It scans the search string from left to right and returns all matches in the order found:"
   ]
  },
  {
   "cell_type": "code",
   "execution_count": null,
   "metadata": {
    "colab": {
     "base_uri": "https://localhost:8080/"
    },
    "id": "5d6VER0NrBik",
    "outputId": "74233259-07b1-4485-95aa-56d460c4a8e8"
   },
   "outputs": [
    {
     "name": "stdout",
     "output_type": "stream",
     "text": [
      "['Azərbaycan', 'Ümid', 'salam']\n"
     ]
    }
   ],
   "source": [
    "print(re.findall(r'\\w+', '...Azərbaycan,,,,Ümid:%$salam//|'))"
   ]
  },
  {
   "cell_type": "code",
   "execution_count": null,
   "metadata": {
    "colab": {
     "base_uri": "https://localhost:8080/"
    },
    "id": "i1iisBm8rBik",
    "outputId": "86f718cc-5085-45fc-f1a6-782b03009b0b"
   },
   "outputs": [
    {
     "name": "stdout",
     "output_type": "stream",
     "text": [
      "['Ba']\n"
     ]
    }
   ],
   "source": [
    "txt = \"Əli Hüseynoğlu bugün Bakıya gəlir\"\n",
    "x = re.findall(\"Ba\", txt)\n",
    "print(x)"
   ]
  },
  {
   "cell_type": "code",
   "execution_count": null,
   "metadata": {
    "colab": {
     "base_uri": "https://localhost:8080/"
    },
    "id": "H6RrGJrbrBik",
    "outputId": "f8a1d92e-a3cf-401f-d42c-c8b58b223725"
   },
   "outputs": [
    {
     "name": "stdout",
     "output_type": "stream",
     "text": [
      "[]\n"
     ]
    }
   ],
   "source": [
    "txt = \"Əli Hüseynoğlu bugün Bakıya gəlir\"\n",
    "x = re.findall(\"Portugal\", txt)\n",
    "print(x)"
   ]
  },
  {
   "cell_type": "markdown",
   "metadata": {
    "id": "hgjU4fqnzWY3"
   },
   "source": [
    "If we know that Ali uses the bus, we need to find which bus he uses"
   ]
  },
  {
   "cell_type": "code",
   "execution_count": null,
   "metadata": {
    "colab": {
     "base_uri": "https://localhost:8080/"
    },
    "id": "p1LDNGPxrBil",
    "outputId": "f19de22b-f74c-436e-a477-3e3a6dc3d017"
   },
   "outputs": [
    {
     "name": "stdout",
     "output_type": "stream",
     "text": [
      "['4', '7']\n"
     ]
    }
   ],
   "source": [
    "strings='Əli Hüseynoğlu bugün Bakıya 47 nömrəli avtobusla gəlir'\n",
    "work=re.findall(r'\\d{1,1}',strings)\n",
    "print(work)\n"
   ]
  },
  {
   "cell_type": "code",
   "execution_count": null,
   "metadata": {
    "colab": {
     "base_uri": "https://localhost:8080/"
    },
    "id": "QT6lRkQmze1d",
    "outputId": "26ad7636-8987-4ed5-fcaa-6351b11f46c5"
   },
   "outputs": [
    {
     "name": "stdout",
     "output_type": "stream",
     "text": [
      "['47']\n"
     ]
    }
   ],
   "source": [
    "strings='Əli Hüseynoğlu bugün Bakıya 47 nömrəli avtobusla gəlir'\n",
    "work=re.findall(r'\\d{1,2}',strings)\n",
    "print(work)\n"
   ]
  },
  {
   "cell_type": "code",
   "execution_count": null,
   "metadata": {
    "colab": {
     "base_uri": "https://localhost:8080/"
    },
    "id": "bfvJZjFCzUTo",
    "outputId": "b9fba626-65e8-4c16-cefc-bb292da4dee9"
   },
   "outputs": [
    {
     "name": "stdout",
     "output_type": "stream",
     "text": [
      "['', 'li', '', '', '', 'seyno', '', 'lu', '', 'bug', '', 'n', '', '', 'ak', '', 'ya', '', '', '', '', 'n', '', 'mr', '', 'li', '', 'avtobusla', '', 'g', '', 'lir', '']\n"
     ]
    }
   ],
   "source": [
    "name=re.findall(r'[a-z]*',strings)\n",
    "print(name)"
   ]
  },
  {
   "cell_type": "code",
   "execution_count": null,
   "metadata": {
    "colab": {
     "base_uri": "https://localhost:8080/"
    },
    "id": "gTGVqofJzvIY",
    "outputId": "d2673da5-2dbd-4d4f-d769-cc3516428fb0"
   },
   "outputs": [
    {
     "name": "stdout",
     "output_type": "stream",
     "text": [
      "['Əli', '', 'Hüseynoğlu', '', 'bugün', '', 'Bakıya', '', '', '', '', 'nömrəli', '', 'avtobusla', '', 'gəlir', '']\n"
     ]
    }
   ],
   "source": [
    "name=re.findall(r'[AaBbCcÇçDdEeƏəFfGgĞğHhXxIıİiJjKkQqLlMmNnOoÖöPpRrSsŞşTtUuÜüVvYyZz]*',strings)\n",
    "print(name)"
   ]
  },
  {
   "cell_type": "code",
   "execution_count": null,
   "metadata": {
    "colab": {
     "base_uri": "https://localhost:8080/"
    },
    "id": "6cHYPOwCrBil",
    "outputId": "4b07f21c-7f88-4edd-e764-2863c8aba009"
   },
   "outputs": [
    {
     "data": {
      "text/plain": [
       "['Əli', 'Hüseynoğlu', 'bugün', 'Bakıya', '47', 'nömrəli', 'avtobusla', 'gəlir']"
      ]
     },
     "execution_count": 12,
     "metadata": {
      "tags": []
     },
     "output_type": "execute_result"
    }
   ],
   "source": [
    "s='Əli Hüseynoğlu bugün Bakıya 47 nömrəli avtobusla gəlir'\n",
    "re.findall( '\\w+', s )"
   ]
  },
  {
   "cell_type": "code",
   "execution_count": null,
   "metadata": {
    "colab": {
     "base_uri": "https://localhost:8080/"
    },
    "id": "LAw548ZBrBim",
    "outputId": "9004ab1e-2dab-438c-a3eb-51eff284faf7"
   },
   "outputs": [
    {
     "name": "stdout",
     "output_type": "stream",
     "text": [
      "['Salam', 'Necəsən']\n"
     ]
    }
   ],
   "source": [
    "# look for every word in a string\n",
    "pattern = re.compile(r\"\\w+\")\n",
    "result = pattern.findall(\"Salam, Necəsən\")\n",
    "print (result)\n"
   ]
  },
  {
   "cell_type": "code",
   "execution_count": null,
   "metadata": {
    "colab": {
     "base_uri": "https://localhost:8080/"
    },
    "id": "4nTe_W1b_IGN",
    "outputId": "138faa5f-0d4a-4d79-d5ce-b94fc1271198"
   },
   "outputs": [
    {
     "name": "stdout",
     "output_type": "stream",
     "text": [
      "['SalamSalamSalamNecəsən']\n"
     ]
    }
   ],
   "source": [
    "\n",
    "patt = re.compile(r\"[Salam]*Necəsən\")\n",
    "res = patt.findall(\"SalamSalamSalamNecəsən\")\n",
    "print (res)\n",
    "\n"
   ]
  },
  {
   "cell_type": "code",
   "execution_count": null,
   "metadata": {
    "colab": {
     "base_uri": "https://localhost:8080/"
    },
    "id": "Dp9vMcp9_uI0",
    "outputId": "c0f08a16-4d58-4d45-ede2-f5c351379e69"
   },
   "outputs": [
    {
     "name": "stdout",
     "output_type": "stream",
     "text": [
      "['SalammmNecəsən']\n"
     ]
    }
   ],
   "source": [
    "\n",
    "patt = re.compile(r\"Salam*Necəsən\")\n",
    "res = patt.findall(\"SalamSalamSalammmNecəsən\")\n",
    "print (res)\n",
    "\n"
   ]
  },
  {
   "cell_type": "markdown",
   "metadata": {
    "id": "5Bp_LhqqrBim"
   },
   "source": [
    "#### Regular Expressions ####\n",
    "     ->Regular expressions are patterns that specify a matching rule.\n",
    "     ->Generally contain a mix of text and special characters.\n",
    "     ->Provides regular expression pattern matching and replacement.\n",
    "     ## Regular expression pattern rules ##\n",
    "        text    -Match literal text\n",
    "        .       -Match any character except newline\n",
    "        ^       -Match the start of a string(^ kerat-sign)\n",
    "        $       -Match the end of a string\n",
    "        *       -Match 0 or more repetitions\n",
    "        +       -Match 1 or more repetitions\n",
    "        ?       -Match 0 or 1 repetitions\n",
    "        *?      -Match 0 or more, few as possible\n",
    "        +?      -Match 1 or more, few as possible\n",
    "        {m,n}   -Match m to n repetitions\n",
    "        {m,n}?  -Match m to n repetitions, few as possible\n",
    "        [...]   -Match a set of characters(range or \"variance\",[A-Z])\n",
    "        [^...]  -Match characters not in set\n",
    "        A | B   -Match A or B( | bar)\n",
    "        (...)   -Match regex in parenthesis as a group\n",
    "      ## Special characters ## (Identifiers:)\n",
    "      \\number   -Matches text matched by previous group\n",
    "      \\A        -Matches start of string\n",
    "      \\b        -Matches empty string at beginning or end of word\n",
    "      \\B        -Matches empty string not at begin or end of word\n",
    "      \\d        -Matches any decimal digit\n",
    "      \\D        -Matches any non-digit\n",
    "      \\s        -Matches any whitespace\n",
    "      \\S        -Matches any non-whitespace\n",
    "      \\w        -Matches any alphanumeric character\n",
    "      \\W        -Matches characters not in \\w\n",
    "      \\Z        -Match at end of string.\n",
    "      \\\\        -Literal backslash\n",
    "      ## White Space characters: ##\n",
    "      \\n        -new line\n",
    "      \\s        -space\n",
    "      \\t        -tab\n",
    "      \\e        -escape\n",
    "      \\f        -form feed\n",
    "      \\r        -return\n",
    "      ## Regular Expressions Objects ##\n",
    "        re.search('patten','string')                 # Search for a match\n",
    "        re.match(s [,pos [,endpos]])                 # Check string for match\n",
    "        re.split(s)                                  # Split on a regex match\n",
    "        re.findall(s)                                # Find all matches\n",
    "        re.sub(repl,s)                               # Replace all matches with repl\n",
    "## What we need\n",
    "1- import re\n",
    "2- re.findall( r' here match ', string)             # findall method take two arg(patten,string)\n"
   ]
  },
  {
   "cell_type": "markdown",
   "metadata": {
    "id": "Blob4PTDrBin"
   },
   "source": [
    "re.finditer(regex, string, flags=0)\n",
    "\n",
    "Returns an iterator that yields regex matches.\n",
    "\n",
    "re.finditer(regex, string) scans string for non-overlapping matches of regex and returns an iterator that yields the match objects from any it finds. It scans the search string from left to right and returns matches in the order it finds them:"
   ]
  },
  {
   "cell_type": "code",
   "execution_count": null,
   "metadata": {
    "id": "P_BMY8dsrBin",
    "outputId": "b0716279-1888-4197-96f3-273fd271c8b4"
   },
   "outputs": [
    {
     "name": "stdout",
     "output_type": "stream",
     "text": [
      "<re.Match object; span=(3, 6), match='foo'>\n",
      "<re.Match object; span=(10, 13), match='bar'>\n",
      "<re.Match object; span=(16, 19), match='baz'>\n"
     ]
    },
    {
     "ename": "StopIteration",
     "evalue": "",
     "output_type": "error",
     "traceback": [
      "\u001b[1;31m---------------------------------------------------------------------------\u001b[0m",
      "\u001b[1;31mStopIteration\u001b[0m                             Traceback (most recent call last)",
      "\u001b[1;32m<ipython-input-16-c040969f6129>\u001b[0m in \u001b[0;36m<module>\u001b[1;34m\u001b[0m\n\u001b[0;32m      3\u001b[0m \u001b[0mprint\u001b[0m\u001b[1;33m(\u001b[0m\u001b[0mnext\u001b[0m\u001b[1;33m(\u001b[0m\u001b[0mit\u001b[0m\u001b[1;33m)\u001b[0m\u001b[1;33m)\u001b[0m\u001b[1;33m\u001b[0m\u001b[1;33m\u001b[0m\u001b[0m\n\u001b[0;32m      4\u001b[0m \u001b[0mprint\u001b[0m\u001b[1;33m(\u001b[0m\u001b[0mnext\u001b[0m\u001b[1;33m(\u001b[0m\u001b[0mit\u001b[0m\u001b[1;33m)\u001b[0m\u001b[1;33m)\u001b[0m\u001b[1;33m\u001b[0m\u001b[1;33m\u001b[0m\u001b[0m\n\u001b[1;32m----> 5\u001b[1;33m \u001b[0mprint\u001b[0m\u001b[1;33m(\u001b[0m\u001b[0mnext\u001b[0m\u001b[1;33m(\u001b[0m\u001b[0mit\u001b[0m\u001b[1;33m)\u001b[0m\u001b[1;33m)\u001b[0m\u001b[1;33m\u001b[0m\u001b[1;33m\u001b[0m\u001b[0m\n\u001b[0m",
      "\u001b[1;31mStopIteration\u001b[0m: "
     ]
    }
   ],
   "source": [
    "it = re.finditer(r'\\w+', '...foo,,,,bar:%$baz//|')\n",
    "print(next(it))\n",
    "print(next(it))\n",
    "print(next(it))\n",
    "print(next(it))"
   ]
  },
  {
   "cell_type": "code",
   "execution_count": null,
   "metadata": {
    "id": "zanIY592rBiq",
    "outputId": "31ac9361-dd72-4920-90f9-053713ea868a"
   },
   "outputs": [
    {
     "name": "stdout",
     "output_type": "stream",
     "text": [
      "<re.Match object; span=(3, 6), match='foo'>\n",
      "<re.Match object; span=(10, 13), match='bar'>\n",
      "<re.Match object; span=(16, 19), match='baz'>\n"
     ]
    }
   ],
   "source": [
    "for i in re.finditer(r'\\w+', '...foo,,,,bar:%$baz//|'):\n",
    "    print(i)"
   ]
  },
  {
   "cell_type": "markdown",
   "metadata": {
    "id": "Oihos8PSrBiq"
   },
   "source": [
    "re.findall() and re.finditer() are very similar, but they differ in two respects:\n",
    "\n",
    "re.findall() returns a list, whereas re.finditer() returns an iterator.\n",
    "\n",
    "The items in the list that re.findall() returns are the actual matching strings, whereas the items yielded by the iterator that re.finditer() returns are match objects."
   ]
  },
  {
   "cell_type": "code",
   "execution_count": null,
   "metadata": {
    "id": "0ScyywhWrBiq"
   },
   "outputs": [],
   "source": []
  },
  {
   "cell_type": "markdown",
   "metadata": {
    "id": "b3C5gtcsrBiq"
   },
   "source": [
    "<b>search -></b> Returns a Match object if there is a match anywhere in the string"
   ]
  },
  {
   "cell_type": "markdown",
   "metadata": {
    "id": "GtYN00PBrBiq"
   },
   "source": [
    "re.search(regex, string)\n",
    "\n",
    "Scans a string for a regex match.\n",
    "\n",
    "re.search(regex,string) scans string looking for the first location where the pattern regex matches. If a match is found, then re.search() returns a match object. Otherwise, it returns None.\n",
    "\n",
    "re.search() takes an optional third flags argument"
   ]
  },
  {
   "cell_type": "markdown",
   "metadata": {
    "id": "CaeF9Xc9rBir"
   },
   "source": [
    "The search() function searches the string for a match, and returns a Match object if there is a match.\n",
    "\n",
    "If there is more than one match, only the first occurrence of the match will be returned:"
   ]
  },
  {
   "cell_type": "code",
   "execution_count": 1,
   "metadata": {
    "colab": {
     "base_uri": "https://localhost:8080/"
    },
    "id": "kFqqHrHJrBir",
    "outputId": "a09aa878-bc3e-4d17-c13f-a5fefa642ca7"
   },
   "outputs": [
    {
     "ename": "NameError",
     "evalue": "name 're' is not defined",
     "output_type": "error",
     "traceback": [
      "\u001b[1;31m---------------------------------------------------------------------------\u001b[0m",
      "\u001b[1;31mNameError\u001b[0m                                 Traceback (most recent call last)",
      "\u001b[1;32m<ipython-input-1-26a6a45f57bf>\u001b[0m in \u001b[0;36m<module>\u001b[1;34m\u001b[0m\n\u001b[0;32m      2\u001b[0m \u001b[1;33m\u001b[0m\u001b[0m\n\u001b[0;32m      3\u001b[0m \u001b[0mtxt\u001b[0m \u001b[1;33m=\u001b[0m \u001b[1;34m\"Bu gün hava istidi\"\u001b[0m\u001b[1;33m\u001b[0m\u001b[1;33m\u001b[0m\u001b[0m\n\u001b[1;32m----> 4\u001b[1;33m \u001b[0mx\u001b[0m \u001b[1;33m=\u001b[0m \u001b[0mre\u001b[0m\u001b[1;33m.\u001b[0m\u001b[0msearch\u001b[0m\u001b[1;33m(\u001b[0m\u001b[1;34m\"\\s\"\u001b[0m\u001b[1;33m,\u001b[0m \u001b[0mtxt\u001b[0m\u001b[1;33m)\u001b[0m\u001b[1;33m\u001b[0m\u001b[1;33m\u001b[0m\u001b[0m\n\u001b[0m\u001b[0;32m      5\u001b[0m \u001b[0mprint\u001b[0m\u001b[1;33m(\u001b[0m\u001b[0mx\u001b[0m\u001b[1;33m)\u001b[0m\u001b[1;33m\u001b[0m\u001b[1;33m\u001b[0m\u001b[0m\n\u001b[0;32m      6\u001b[0m \u001b[0mprint\u001b[0m\u001b[1;33m(\u001b[0m\u001b[1;34m\"The first white-space character is located in position:\"\u001b[0m\u001b[1;33m,\u001b[0m \u001b[0mx\u001b[0m\u001b[1;33m.\u001b[0m\u001b[0mstart\u001b[0m\u001b[1;33m(\u001b[0m\u001b[1;33m)\u001b[0m\u001b[1;33m)\u001b[0m\u001b[1;33m\u001b[0m\u001b[1;33m\u001b[0m\u001b[0m\n",
      "\u001b[1;31mNameError\u001b[0m: name 're' is not defined"
     ]
    }
   ],
   "source": [
    "#Search for the first white-space character in the string:\n",
    "\n",
    "txt = \"Bu gün hava istidi\"\n",
    "x = re.search(\"\\s\", txt)\n",
    "print(x)\n",
    "print(\"The first white-space character is located in position:\", x.start())"
   ]
  },
  {
   "cell_type": "code",
   "execution_count": null,
   "metadata": {
    "colab": {
     "base_uri": "https://localhost:8080/"
    },
    "id": "tvNrUHmkrBir",
    "outputId": "c51c70bc-1974-4ba9-939c-c10cdbfa3141"
   },
   "outputs": [
    {
     "name": "stdout",
     "output_type": "stream",
     "text": [
      " \n"
     ]
    }
   ],
   "source": [
    "print(txt[2:3])"
   ]
  },
  {
   "cell_type": "code",
   "execution_count": null,
   "metadata": {
    "colab": {
     "base_uri": "https://localhost:8080/"
    },
    "id": "qxdiEFmLBZq0",
    "outputId": "12487eca-db47-4b30-c72f-f988973dbf4e"
   },
   "outputs": [
    {
     "name": "stdout",
     "output_type": "stream",
     "text": [
      "2 3\n"
     ]
    }
   ],
   "source": [
    "print(x.start(),x.end())"
   ]
  },
  {
   "cell_type": "code",
   "execution_count": null,
   "metadata": {
    "colab": {
     "base_uri": "https://localhost:8080/"
    },
    "id": "Rxfqys97BRX2",
    "outputId": "0acdff36-5d39-42bd-970a-69ac220df207"
   },
   "outputs": [
    {
     "name": "stdout",
     "output_type": "stream",
     "text": [
      " \n"
     ]
    }
   ],
   "source": [
    "print(txt[x.start():x.end()])"
   ]
  },
  {
   "cell_type": "code",
   "execution_count": null,
   "metadata": {
    "colab": {
     "base_uri": "https://localhost:8080/"
    },
    "id": "7VbCODmjBlYO",
    "outputId": "2670f77e-8f88-4bc9-e52c-2155b0353cad"
   },
   "outputs": [
    {
     "name": "stdout",
     "output_type": "stream",
     "text": [
      "<re.Match object; span=(2, 3), match=' '>\n",
      "\\s\n",
      "Bu gün hava istidi\n",
      "2\n",
      "3\n"
     ]
    }
   ],
   "source": [
    "print(x)\n",
    "print(x.re.pattern)\n",
    "print(x.string)\n",
    "print(x.start())\n",
    "print(x.end())"
   ]
  },
  {
   "cell_type": "markdown",
   "metadata": {
    "id": "qycJJ32brBis"
   },
   "source": [
    "A match object is truthy, so you can use it in a Boolean context like a conditional statement:"
   ]
  },
  {
   "cell_type": "code",
   "execution_count": null,
   "metadata": {
    "colab": {
     "base_uri": "https://localhost:8080/"
    },
    "id": "COCCWPwSrBis",
    "outputId": "95c54b11-9dc3-43c7-8c60-9786d9bb2dec"
   },
   "outputs": [
    {
     "name": "stdout",
     "output_type": "stream",
     "text": [
      "No match.\n"
     ]
    }
   ],
   "source": [
    "if re.search('123', txt):\n",
    "    print('Found a match.')\n",
    "else:\n",
    "    print('No match.')"
   ]
  },
  {
   "cell_type": "code",
   "execution_count": null,
   "metadata": {
    "colab": {
     "base_uri": "https://localhost:8080/"
    },
    "id": "tVOzGIPmrBis",
    "outputId": "1f007351-536c-471c-f378-e5b4898dc3b7"
   },
   "outputs": [
    {
     "name": "stdout",
     "output_type": "stream",
     "text": [
      "None\n"
     ]
    }
   ],
   "source": [
    "# If no matches are found, the value None is returned:\n",
    "\n",
    "#Example\n",
    "# Make a search that returns no match:\n",
    "\n",
    "txt = \"Bu gün hava istidi\"\n",
    "x = re.search(\"soyuq\", txt)\n",
    "print(x)"
   ]
  },
  {
   "cell_type": "code",
   "execution_count": null,
   "metadata": {
    "id": "w5qi6XenrBis"
   },
   "outputs": [],
   "source": []
  },
  {
   "cell_type": "markdown",
   "metadata": {
    "id": "2vLnuvuqrBit"
   },
   "source": [
    "Python Regex Metacharacters<br>\n",
    "The real power of regex matching in Python emerges when <regex> contains special characters called metacharacters. These have a unique meaning to the regex matching engine and vastly enhance the capability of the search.\n",
    "\n",
    "Consider again the problem of how to determine whether a string contains any three consecutive decimal digit characters."
   ]
  },
  {
   "cell_type": "code",
   "execution_count": null,
   "metadata": {
    "colab": {
     "base_uri": "https://localhost:8080/"
    },
    "id": "nVjCsvoBrBit",
    "outputId": "cb1783fb-0362-4647-e592-1c738ca9ceb4"
   },
   "outputs": [
    {
     "name": "stdout",
     "output_type": "stream",
     "text": [
      "<re.Match object; span=(12, 15), match='234'>\n"
     ]
    }
   ],
   "source": [
    "s = 'Bu gün hava 234 derecedi :D'\n",
    "search = re.search('[0-9][0-9][0-9]', s)\n",
    "\n",
    "print(search)\n",
    "\n"
   ]
  },
  {
   "cell_type": "markdown",
   "metadata": {
    "id": "WUWWjaH8rBit"
   },
   "source": [
    "[0-9] matches any single decimal digit character—any character between '0' and '9', inclusive. The full expression [0-9][0-9][0-9] matches any sequence of three decimal digit characters. In this case, s matches because it contains three consecutive decimal digit characters, '123'."
   ]
  },
  {
   "cell_type": "code",
   "execution_count": null,
   "metadata": {
    "colab": {
     "base_uri": "https://localhost:8080/"
    },
    "id": "SdkokGtQrBiu",
    "outputId": "2ab9db7e-8235-45a0-841b-563b7c27bf87"
   },
   "outputs": [
    {
     "name": "stdout",
     "output_type": "stream",
     "text": [
      "<re.Match object; span=(3, 6), match='678'>\n",
      "<re.Match object; span=(3, 6), match='456'>\n"
     ]
    }
   ],
   "source": [
    "print(re.search('[0-9][0-9][0-9]', 'qux678'))\n",
    "print(re.search('[0-9][0-9][0-9]', 'foo456bar'))"
   ]
  },
  {
   "cell_type": "code",
   "execution_count": null,
   "metadata": {
    "colab": {
     "base_uri": "https://localhost:8080/"
    },
    "id": "GmLViRrhrBiu",
    "outputId": "e2773db9-8619-4841-a0f6-24a702a7c891"
   },
   "outputs": [
    {
     "name": "stdout",
     "output_type": "stream",
     "text": [
      "None\n"
     ]
    }
   ],
   "source": [
    "print(re.search('[0-9][0-9][0-9]', '12foo34'))"
   ]
  },
  {
   "cell_type": "code",
   "execution_count": null,
   "metadata": {
    "id": "4Yh03rROrBiu"
   },
   "outputs": [],
   "source": []
  },
  {
   "cell_type": "markdown",
   "metadata": {
    "id": "C--gzT9qrBiu"
   },
   "source": [
    "Take a look at another regex metacharacter. The dot (.) metacharacter matches any character except a newline, so it functions like a wildcard:"
   ]
  },
  {
   "cell_type": "code",
   "execution_count": null,
   "metadata": {
    "colab": {
     "base_uri": "https://localhost:8080/"
    },
    "id": "w-6MZoMcrBiu",
    "outputId": "0cc865fe-c606-4d3a-a818-f6ba63a3f748"
   },
   "outputs": [
    {
     "name": "stdout",
     "output_type": "stream",
     "text": [
      "<re.Match object; span=(3, 6), match='123'>\n",
      "None\n",
      "None\n",
      "None\n"
     ]
    }
   ],
   "source": [
    "s = 'foo123bar'\n",
    "print(re.search('1.3', s))\n",
    "\n",
    "s = 'foo13bar'\n",
    "print(re.search('1.3', s))\n",
    "\n",
    "print(re.search('foo.bar', 'foobar'))\n",
    "print(re.search('foo.bar', 'foo\\nbar'))"
   ]
  },
  {
   "cell_type": "markdown",
   "metadata": {
    "id": "w1MghjJgrBiv"
   },
   "source": [
    "In the first example, the regex 1.3 matches '123' because the '1' and '3' match literally, and the . matches the '2'. Here, you’re essentially asking, “Does s contain a '1', then any character (except a newline), then a '3'?” The answer is yes for 'foo123bar' but no for 'foo13bar'."
   ]
  },
  {
   "cell_type": "markdown",
   "metadata": {
    "id": "otKl1pWnrBiv"
   },
   "source": [
    "[]\n",
    "\n",
    "Specifies a specific set of characters to match.\n",
    "\n",
    "Characters contained in square brackets ([]) represent a character class—an enumerated set of characters to match from. A character class metacharacter sequence will match any single character contained in the class."
   ]
  },
  {
   "cell_type": "code",
   "execution_count": null,
   "metadata": {
    "colab": {
     "base_uri": "https://localhost:8080/"
    },
    "id": "ba454pShrBiw",
    "outputId": "e4451f01-3502-4f2f-b635-f78163c3754d"
   },
   "outputs": [
    {
     "name": "stdout",
     "output_type": "stream",
     "text": [
      "<re.Match object; span=(0, 5), match='Cavad'>\n",
      "<re.Match object; span=(0, 5), match='Cavab'>\n",
      "None\n"
     ]
    }
   ],
   "source": [
    "print(re.search('Cava[db]', 'Cavad'))\n",
    "print(re.search('Cava[db]', 'Cavab'))\n",
    "\n",
    "print(re.search('Cava[db]', 'Cavaz'))"
   ]
  },
  {
   "cell_type": "markdown",
   "metadata": {
    "id": "4hA2mYmBrBiw"
   },
   "source": [
    "The metacharacter sequence [artz] matches any single 'a', 'r', 't', or 'z' character. In the example, the regex ba[artz] matches both 'bar' and 'baz' (and would also match 'baa' and 'bat')."
   ]
  },
  {
   "cell_type": "code",
   "execution_count": null,
   "metadata": {
    "id": "fppxYgQhrBiw"
   },
   "outputs": [],
   "source": []
  },
  {
   "cell_type": "markdown",
   "metadata": {
    "id": "12pB0l77rBix"
   },
   "source": [
    "A character class can also contain a range of characters separated by a hyphen (-), in which case it matches any single character within the range. For example, [a-z] matches any lowercase alphabetic character between 'a' and 'z', inclusive:"
   ]
  },
  {
   "cell_type": "code",
   "execution_count": null,
   "metadata": {
    "colab": {
     "base_uri": "https://localhost:8080/"
    },
    "id": "avXG6AzArBiy",
    "outputId": "256e7189-ae79-429d-8643-77b9589009b2"
   },
   "outputs": [
    {
     "name": "stdout",
     "output_type": "stream",
     "text": [
      "<re.Match object; span=(3, 4), match='a'>\n"
     ]
    }
   ],
   "source": [
    "print(re.search('[a-z]', 'CAVad'))"
   ]
  },
  {
   "cell_type": "code",
   "execution_count": null,
   "metadata": {
    "colab": {
     "base_uri": "https://localhost:8080/"
    },
    "id": "uzijrHVrrBi0",
    "outputId": "cbfb01d3-1785-402f-bd2f-567461a18867"
   },
   "outputs": [
    {
     "name": "stdout",
     "output_type": "stream",
     "text": [
      "<re.Match object; span=(5, 7), match='17'>\n"
     ]
    }
   ],
   "source": [
    "print(re.search('[0-9][0-9]', 'Cavad17il'))"
   ]
  },
  {
   "cell_type": "code",
   "execution_count": null,
   "metadata": {
    "id": "MW2YQaSyrBi0"
   },
   "outputs": [],
   "source": []
  },
  {
   "cell_type": "markdown",
   "metadata": {
    "id": "mkYv9cjgrBi0"
   },
   "source": [
    "You can complement a character class by specifying ^ as the first character, in which case it matches any character that isn’t in the set. In the following example, [^0-9] matches any character that isn’t a digit:\n",
    "\n"
   ]
  },
  {
   "cell_type": "code",
   "execution_count": null,
   "metadata": {
    "colab": {
     "base_uri": "https://localhost:8080/"
    },
    "id": "8QM5MnRmrBi0",
    "outputId": "6fc2213c-2202-4c54-e633-7c7ead66d41e"
   },
   "outputs": [
    {
     "name": "stdout",
     "output_type": "stream",
     "text": [
      "<re.Match object; span=(0, 1), match='C'>\n"
     ]
    }
   ],
   "source": [
    "print(re.search('[^0-9]', 'Cavad17il'))"
   ]
  },
  {
   "cell_type": "markdown",
   "metadata": {
    "id": "bVWUPHPYrBi1"
   },
   "source": [
    "Here, the match object indicates that the first character in the string that isn’t a digit is 'f'."
   ]
  },
  {
   "cell_type": "code",
   "execution_count": null,
   "metadata": {
    "id": "l04hsvlarBi1"
   },
   "outputs": [],
   "source": []
  },
  {
   "cell_type": "markdown",
   "metadata": {
    "id": "JppB-Qq_rBi1"
   },
   "source": [
    "\\w\n",
    "\n",
    "\n",
    "Match based on whether a character is a word character.\n",
    "\n",
    "\\w matches any alphanumeric word character. Word characters are uppercase and lowercase letters, digits, and the underscore (_) character, so \\w is essentially shorthand for [a-zA-Z0-9_]:"
   ]
  },
  {
   "cell_type": "code",
   "execution_count": null,
   "metadata": {
    "id": "KR4PjgxprBi1",
    "outputId": "8b324ceb-30c5-4629-ec5e-1da1a805eda2"
   },
   "outputs": [
    {
     "name": "stdout",
     "output_type": "stream",
     "text": [
      "<re.Match object; span=(3, 4), match='a'>\n"
     ]
    }
   ],
   "source": [
    "print(re.search('\\w', '#(.a$@&'))"
   ]
  },
  {
   "cell_type": "code",
   "execution_count": null,
   "metadata": {
    "id": "rbLqX-D4rBi2",
    "outputId": "3f7dec05-91ca-4423-c067-c0ae6ab54d45"
   },
   "outputs": [
    {
     "name": "stdout",
     "output_type": "stream",
     "text": [
      "<re.Match object; span=(3, 4), match='a'>\n"
     ]
    }
   ],
   "source": [
    "print(re.search('[a-zA-Z0-9_]', '#(.a$@&'))"
   ]
  },
  {
   "cell_type": "markdown",
   "metadata": {
    "id": "YrjqIKGhrBi2"
   },
   "source": [
    "\\W is the opposite. It matches any non-word character and is equivalent to [^a-zA-Z0-9_]:"
   ]
  },
  {
   "cell_type": "code",
   "execution_count": null,
   "metadata": {
    "id": "aHTwOQhArBi2",
    "outputId": "9d1f7bc2-9899-49f9-d7ba-00f3cc50ee51"
   },
   "outputs": [
    {
     "name": "stdout",
     "output_type": "stream",
     "text": [
      "<re.Match object; span=(3, 4), match='*'>\n"
     ]
    }
   ],
   "source": [
    "print(re.search('\\W', 'a_1*3Qb'))"
   ]
  },
  {
   "cell_type": "code",
   "execution_count": null,
   "metadata": {
    "id": "BCHjtIltrBi2",
    "outputId": "da508299-da25-4698-a52c-bcdd5cee526b"
   },
   "outputs": [
    {
     "name": "stdout",
     "output_type": "stream",
     "text": [
      "<re.Match object; span=(3, 4), match='*'>\n"
     ]
    }
   ],
   "source": [
    "print(re.search('[^a-zA-Z0-9_]', 'a_1*3Qb'))"
   ]
  },
  {
   "cell_type": "code",
   "execution_count": null,
   "metadata": {
    "id": "HMF6out_rBi3"
   },
   "outputs": [],
   "source": []
  },
  {
   "cell_type": "markdown",
   "metadata": {
    "id": "RvjP7UeTrBi3"
   },
   "source": [
    "\\d\n",
    "\n",
    "Match based on whether a character is a decimal digit.\n",
    "\n",
    "\\d matches any decimal digit character. \\D is the opposite. It matches any character that isn’t a decimal digit:"
   ]
  },
  {
   "cell_type": "code",
   "execution_count": null,
   "metadata": {
    "id": "TFSPrm4rrBi3",
    "outputId": "8b6d8098-3f41-418f-8bfd-f1ee07fd54fc"
   },
   "outputs": [
    {
     "name": "stdout",
     "output_type": "stream",
     "text": [
      "<re.Match object; span=(3, 4), match='4'>\n"
     ]
    }
   ],
   "source": [
    "print(re.search('\\d', 'abc4def'))"
   ]
  },
  {
   "cell_type": "code",
   "execution_count": null,
   "metadata": {
    "id": "Us8afNjYrBi3",
    "outputId": "776b2795-87fa-4bc7-e122-d9c3e03794d6"
   },
   "outputs": [
    {
     "name": "stdout",
     "output_type": "stream",
     "text": [
      "<re.Match object; span=(3, 4), match='Q'>\n"
     ]
    }
   ],
   "source": [
    "print(re.search('\\D', '234Q678'))"
   ]
  },
  {
   "cell_type": "markdown",
   "metadata": {
    "id": "-702WyhHrBi3"
   },
   "source": [
    "\\d is essentially equivalent to [0-9], and \\D is equivalent to [^0-9]."
   ]
  },
  {
   "cell_type": "code",
   "execution_count": null,
   "metadata": {
    "id": "73axNC-VrBi4"
   },
   "outputs": [],
   "source": []
  },
  {
   "cell_type": "markdown",
   "metadata": {
    "id": "sRZr8Y1IrBi4"
   },
   "source": [
    "\\s matches any whitespace character:"
   ]
  },
  {
   "cell_type": "code",
   "execution_count": null,
   "metadata": {
    "colab": {
     "base_uri": "https://localhost:8080/"
    },
    "id": "QjXBTeEVrBi4",
    "outputId": "079d82af-858f-43d1-ace1-ee8ba38d27f8"
   },
   "outputs": [
    {
     "name": "stdout",
     "output_type": "stream",
     "text": [
      "<re.Match object; span=(5, 6), match=' '>\n"
     ]
    }
   ],
   "source": [
    "print(re.search('\\s', 'Cavad Muho Ela'))"
   ]
  },
  {
   "cell_type": "markdown",
   "metadata": {
    "id": "U7PkeQfErBi5"
   },
   "source": [
    "\\S is the opposite of \\s. It matches any character that isn’t whitespace:"
   ]
  },
  {
   "cell_type": "code",
   "execution_count": null,
   "metadata": {
    "colab": {
     "base_uri": "https://localhost:8080/"
    },
    "id": "KVmeZFpLrBi6",
    "outputId": "897a39ce-209c-4aa8-b71c-b70463550bf1"
   },
   "outputs": [
    {
     "name": "stdout",
     "output_type": "stream",
     "text": [
      "<re.Match object; span=(3, 4), match='f'>\n"
     ]
    }
   ],
   "source": [
    "print(re.search('\\S', '   foo    '))\n"
   ]
  },
  {
   "cell_type": "markdown",
   "metadata": {
    "id": "e8Wuj7f3rBi6"
   },
   "source": [
    "The character class sequences \\w, \\W, \\d, \\D, \\s, and \\S can appear inside a square bracket character class as well:"
   ]
  },
  {
   "cell_type": "code",
   "execution_count": null,
   "metadata": {
    "colab": {
     "base_uri": "https://localhost:8080/"
    },
    "id": "TBXZxINfrBi6",
    "outputId": "6cc17e2b-3117-4fb2-907b-3b16c6178517"
   },
   "outputs": [
    {
     "name": "stdout",
     "output_type": "stream",
     "text": [
      "<re.Match object; span=(3, 4), match='3'>\n",
      "<re.Match object; span=(3, 4), match='a'>\n",
      "<re.Match object; span=(3, 4), match=' '>\n"
     ]
    }
   ],
   "source": [
    "print(re.search('[\\d\\w\\s]', '---3---'))\n",
    "print(re.search('[\\d\\w\\s]', '---a---'))\n",
    "print(re.search('[\\d\\w\\s]', '--- ---'))"
   ]
  },
  {
   "cell_type": "code",
   "execution_count": null,
   "metadata": {
    "id": "6drrANaCrBi6"
   },
   "outputs": [],
   "source": []
  },
  {
   "cell_type": "markdown",
   "metadata": {
    "id": "9gpiHNvsrBi6"
   },
   "source": [
    "backslash (\\)\n",
    "\n",
    "Removes the special meaning of a metacharacter."
   ]
  },
  {
   "cell_type": "code",
   "execution_count": null,
   "metadata": {
    "colab": {
     "base_uri": "https://localhost:8080/"
    },
    "id": "Jn74vllmrBi6",
    "outputId": "6380a9f5-a846-4c20-9b8f-9084442c99a6"
   },
   "outputs": [
    {
     "name": "stdout",
     "output_type": "stream",
     "text": [
      "<re.Match object; span=(0, 1), match='f'>\n",
      "<re.Match object; span=(3, 4), match='.'>\n",
      "<re.Match object; span=(0, 1), match='f'>\n"
     ]
    }
   ],
   "source": [
    "print(re.search('.', 'foo.bar'))\n",
    "print(re.search('\\.', 'foo.bar'))\n",
    "# equivalent\n",
    "print(re.search(r'.', 'foo.bar'))\n"
   ]
  },
  {
   "cell_type": "markdown",
   "metadata": {
    "id": "t_3dFuPgrBi7"
   },
   "source": [
    "In the regex on line 1, the dot (.) functions as a wildcard metacharacter, which matches the first character in the string ('f'). The . character in the regex on line 4 is escaped by a backslash, so it isn’t a wildcard. It’s interpreted literally and matches the '.' at index 3 of the search string."
   ]
  },
  {
   "cell_type": "code",
   "execution_count": null,
   "metadata": {
    "id": "A9SORct7rBi7"
   },
   "outputs": [],
   "source": []
  },
  {
   "cell_type": "markdown",
   "metadata": {
    "id": "AMX3pY-_rBi7"
   },
   "source": [
    "<a>Anchors</a><br>\n",
    "Anchors are zero-width matches. They don’t match any actual characters in the search string, and they don’t consume any of the search string during parsing. Instead, an anchor dictates a particular location in the search string where a match must occur."
   ]
  },
  {
   "cell_type": "markdown",
   "metadata": {
    "id": "SQXsy0fsrBi8"
   },
   "source": [
    "^\n",
    "\\A\n",
    "\n",
    "Anchor a match to the start of <string>.\n",
    "\n",
    "When the regex parser encounters ^ or \\A, the parser’s current position must be at the beginning of the search string for it to find a match.\n",
    "\n",
    "In other words, regex ^foo stipulates that 'foo' must be present not just any old place in the search string, but at the beginning:"
   ]
  },
  {
   "cell_type": "code",
   "execution_count": null,
   "metadata": {
    "id": "6-vYQSjlrBi8",
    "outputId": "11e28a8b-2556-4792-da37-504246aa8e06"
   },
   "outputs": [
    {
     "name": "stdout",
     "output_type": "stream",
     "text": [
      "<re.Match object; span=(0, 3), match='foo'>\n",
      "None\n"
     ]
    }
   ],
   "source": [
    "print(re.search('^foo', 'foobar'))\n",
    "print(re.search('^foo', 'barfoo'))"
   ]
  },
  {
   "cell_type": "code",
   "execution_count": null,
   "metadata": {
    "id": "0NnGLZ3VrBi8",
    "outputId": "ced3a198-9315-463c-c2f2-97073828fed0"
   },
   "outputs": [
    {
     "name": "stdout",
     "output_type": "stream",
     "text": [
      "<re.Match object; span=(0, 3), match='foo'>\n",
      "None\n"
     ]
    }
   ],
   "source": [
    "print(re.search('\\Afoo', 'foobar'))\n",
    "print(re.search('\\Afoo', 'barfoo'))"
   ]
  },
  {
   "cell_type": "code",
   "execution_count": null,
   "metadata": {
    "id": "R1mUEfk5rBi8"
   },
   "outputs": [],
   "source": []
  },
  {
   "cell_type": "markdown",
   "metadata": {
    "id": "YQNYOfkdrBi8"
   },
   "source": [
    "$\n",
    "\\Z\n",
    "\n",
    "Anchor a match to the end of <string>.\n",
    "\n",
    "When the regex parser encounters \\$ or \\Z, the parser’s current position must be at the end of the search string for it to find a match. Whatever precedes $ or \\Z must constitute the end of the search string:\n",
    "\n"
   ]
  },
  {
   "cell_type": "code",
   "execution_count": null,
   "metadata": {
    "id": "Y3BAdDiYrBi9",
    "outputId": "31847023-a10a-44ba-a5ea-2ae3f215ecd9"
   },
   "outputs": [
    {
     "name": "stdout",
     "output_type": "stream",
     "text": [
      "<re.Match object; span=(3, 6), match='bar'>\n",
      "None\n",
      "<re.Match object; span=(3, 6), match='bar'>\n",
      "None\n"
     ]
    }
   ],
   "source": [
    "print(re.search('bar$', 'foobar'))\n",
    "print(re.search('bar$', 'barfoo'))\n",
    "print(re.search('bar\\Z', 'foobar'))\n",
    "print(re.search('bar\\Z', 'barfoo'))"
   ]
  },
  {
   "cell_type": "code",
   "execution_count": null,
   "metadata": {
    "colab": {
     "base_uri": "https://localhost:8080/"
    },
    "id": "WlcdmKpirBi9",
    "outputId": "5d89b22e-5cba-4be4-87cb-ca096230aad7"
   },
   "outputs": [
    {
     "name": "stdout",
     "output_type": "stream",
     "text": [
      "<re.Match object; span=(0, 1), match='\\x08'>\n"
     ]
    }
   ],
   "source": [
    "print(re.search('\\b', '\\bar')) \n"
   ]
  },
  {
   "cell_type": "markdown",
   "metadata": {
    "id": "niDosuz9rBi9"
   },
   "source": [
    "\\b\n",
    "\n",
    "Anchors a match to a word boundary.\n",
    "\n",
    "\\b asserts that the regex parser’s current position must be at the beginning or end of a word. A word consists of a sequence of alphanumeric characters or underscores ([a-zA-Z0-9_]), the same as for the \\w character class:"
   ]
  },
  {
   "cell_type": "code",
   "execution_count": null,
   "metadata": {
    "colab": {
     "base_uri": "https://localhost:8080/"
    },
    "id": "2fjo57XYrBi9",
    "outputId": "15dd67cb-dddf-4194-d076-92dc50c47739"
   },
   "outputs": [
    {
     "name": "stdout",
     "output_type": "stream",
     "text": [
      "<re.Match object; span=(4, 7), match='bar'>\n",
      "<re.Match object; span=(4, 7), match='bar'>\n",
      "<re.Match object; span=(4, 7), match='bar'>\n",
      "None\n",
      "<re.Match object; span=(0, 3), match='foo'>\n",
      "<re.Match object; span=(0, 3), match='foo'>\n",
      "None\n"
     ]
    }
   ],
   "source": [
    "print(re.search('\\\\bbar', 'foo bar')) \n",
    "print(re.search(r'\\bbar', 'foo bar'))# same\n",
    "# \\b = ASCII Backspace (BS)\n",
    "print(re.search(r'\\bbar', 'foo.bar'))\n",
    "print(re.search(r'\\bbar', 'foobar'))\n",
    "print(re.search(r'foo\\b', 'foo bar'))\n",
    "print(re.search(r'foo\\b', 'foo.bar'))\n",
    "print(re.search(r'foo\\b', 'foobar'))"
   ]
  },
  {
   "cell_type": "code",
   "execution_count": null,
   "metadata": {
    "colab": {
     "base_uri": "https://localhost:8080/"
    },
    "id": "mzTuSf5CrBi9",
    "outputId": "16efea68-1362-4d04-ccf6-d08bc927bbe9"
   },
   "outputs": [
    {
     "name": "stdout",
     "output_type": "stream",
     "text": [
      "<re.Match object; span=(4, 7), match='bar'>\n",
      "<re.Match object; span=(4, 7), match='bar'>\n",
      "None\n"
     ]
    }
   ],
   "source": [
    "print(re.search(r'\\bbar\\b', 'foo bar baz'))\n",
    "print(re.search(r'\\bbar\\b', 'foo(bar)baz'))\n",
    "print((re.search(r'\\bbar\\b', 'barfoobaz')))"
   ]
  },
  {
   "cell_type": "markdown",
   "metadata": {
    "id": "EWcYQHdurBi9"
   },
   "source": [
    "\\B\n",
    "\n",
    "Anchors a match to a location that isn’t a word boundary.\n",
    "\n",
    "\\B does the opposite of \\b. It asserts that the regex parser’s current position must not be at the start or end of a word:"
   ]
  },
  {
   "cell_type": "code",
   "execution_count": null,
   "metadata": {
    "colab": {
     "base_uri": "https://localhost:8080/"
    },
    "id": "-B174MeyrBi-",
    "outputId": "e99888fc-864e-4363-ea93-f52752952714"
   },
   "outputs": [
    {
     "name": "stdout",
     "output_type": "stream",
     "text": [
      "None\n",
      "None\n",
      "<re.Match object; span=(3, 6), match='foo'>\n"
     ]
    }
   ],
   "source": [
    "print(re.search(r'\\Bfoo\\B', 'foo bar baz'))\n",
    "print(re.search(r'\\Bfoo\\B', 'foo(bar)baz'))\n",
    "print(re.search(r'\\Bfoo\\B', 'barfoobaz'))"
   ]
  },
  {
   "cell_type": "code",
   "execution_count": null,
   "metadata": {
    "id": "Vj0a7GTcrBi-"
   },
   "outputs": [],
   "source": []
  },
  {
   "cell_type": "markdown",
   "metadata": {
    "id": "G05UESQTrBi-"
   },
   "source": [
    "<a>Quantifiers</a><br>\n",
    "A quantifier metacharacter immediately follows a portion of a <regex> and indicates how many times that portion must occur for the match to succeed.\n",
    "\n",
    "*\n",
    "\n",
    "Matches zero or more repetitions of the preceding regex.\n",
    "\n",
    "For example, a* matches zero or more 'a' characters. That means it would match an empty string, 'a', 'aa', 'aaa', and so on."
   ]
  },
  {
   "cell_type": "code",
   "execution_count": null,
   "metadata": {
    "id": "kXnBAiUWrBi-",
    "outputId": "c8e4966f-0d76-4592-fb62-e9ed87432b19"
   },
   "outputs": [
    {
     "name": "stdout",
     "output_type": "stream",
     "text": [
      "<re.Match object; span=(0, 6), match='foobar'>\n",
      "<re.Match object; span=(0, 7), match='foo-bar'>\n",
      "<re.Match object; span=(0, 8), match='foo--bar'>\n"
     ]
    }
   ],
   "source": [
    "print(re.search('foo-*bar', 'foobar'))\n",
    "print(re.search('foo-*bar', 'foo-bar'))\n",
    "print(re.search('foo-*bar', 'foo--bar'))"
   ]
  },
  {
   "cell_type": "markdown",
   "metadata": {
    "id": "w45mUOVqrBi-"
   },
   "source": [
    "On line 1, there are zero '-' characters between 'foo' and 'bar'. On line 3 there’s one, and on line 5 there are two. The metacharacter sequence -* matches in all three cases.\n",
    "\n",
    "You’ll probably encounter the regex .* in a Python program at some point. This matches zero or more occurrences of any character. In other words, it essentially matches any character sequence up to a line break. (Remember that the . wildcard metacharacter doesn’t match a newline.)"
   ]
  },
  {
   "cell_type": "code",
   "execution_count": null,
   "metadata": {
    "id": "B1Jhgoc_rBi_",
    "outputId": "9134e0a3-cea1-4fdb-b396-3f3abf20dcdc"
   },
   "outputs": [
    {
     "name": "stdout",
     "output_type": "stream",
     "text": [
      "<re.Match object; span=(2, 23), match='foo $qux@grault % bar'>\n"
     ]
    }
   ],
   "source": [
    "# In this example, .* matches everything between 'foo' and 'bar':\n",
    "\n",
    "print(re.search('foo.*bar', '# foo $qux@grault % bar #'))"
   ]
  },
  {
   "cell_type": "code",
   "execution_count": null,
   "metadata": {
    "id": "5932D4BDrBi_"
   },
   "outputs": [],
   "source": []
  },
  {
   "cell_type": "markdown",
   "metadata": {
    "id": "CHYekbbLrBi_"
   },
   "source": [
    "+\n",
    "\n",
    "Matches one or more repetitions of the preceding regex.\n",
    "\n",
    "This is similar to *, but the quantified regex must occur at least once:"
   ]
  },
  {
   "cell_type": "code",
   "execution_count": null,
   "metadata": {
    "id": "sST0piyfrBi_",
    "outputId": "58acdd2e-6928-408f-9b79-aea5aae06eda"
   },
   "outputs": [
    {
     "name": "stdout",
     "output_type": "stream",
     "text": [
      "None\n",
      "<re.Match object; span=(0, 7), match='foo-bar'>\n",
      "<re.Match object; span=(0, 8), match='foo--bar'>\n"
     ]
    }
   ],
   "source": [
    "print(re.search('foo-+bar', 'foobar'))\n",
    "print(re.search('foo-+bar', 'foo-bar'))\n",
    "print(re.search('foo-+bar', 'foo--bar'))"
   ]
  },
  {
   "cell_type": "code",
   "execution_count": null,
   "metadata": {
    "id": "RDfKAZZLrBjA"
   },
   "outputs": [],
   "source": []
  },
  {
   "cell_type": "markdown",
   "metadata": {
    "id": "-inK0OpKrBjA"
   },
   "source": [
    "?\n",
    "\n",
    "Matches zero or one repetitions of the preceding regex.\n",
    "\n",
    "Again, this is similar to * and +, but in this case there’s only a match if the preceding regex occurs once or not at all:"
   ]
  },
  {
   "cell_type": "code",
   "execution_count": null,
   "metadata": {
    "id": "fr8sfN4JrBjA",
    "outputId": "3ee7d3bf-e17b-4b6b-9930-5f2dbb2c1583"
   },
   "outputs": [
    {
     "name": "stdout",
     "output_type": "stream",
     "text": [
      "<re.Match object; span=(0, 6), match='foobar'>\n",
      "<re.Match object; span=(0, 7), match='foo-bar'>\n",
      "None\n"
     ]
    }
   ],
   "source": [
    "print(re.search('foo-?bar', 'foobar'))\n",
    "print(re.search('foo-?bar', 'foo-bar'))\n",
    "print(re.search('foo-?bar', 'foo--bar'))"
   ]
  },
  {
   "cell_type": "markdown",
   "metadata": {
    "id": "qFPqyOp3rBjA"
   },
   "source": [
    "Here are some more examples showing the use of all three quantifier metacharacters:"
   ]
  },
  {
   "cell_type": "code",
   "execution_count": null,
   "metadata": {
    "id": "jNWUTuyLrBjA",
    "outputId": "d5174054-703f-4bc1-bd01-6313c4f4776b"
   },
   "outputs": [
    {
     "name": "stdout",
     "output_type": "stream",
     "text": [
      "<re.Match object; span=(0, 6), match='foobar'>\n",
      "<re.Match object; span=(0, 8), match='foo42bar'>\n",
      "None\n",
      "<re.Match object; span=(0, 8), match='foo42bar'>\n",
      "<re.Match object; span=(0, 6), match='foobar'>\n",
      "None\n"
     ]
    }
   ],
   "source": [
    "print(re.match('foo[1-9]*bar', 'foobar'))\n",
    "print(re.match('foo[1-9]*bar', 'foo42bar'))\n",
    "print(re.match('foo[1-9]+bar', 'foobar'))\n",
    "print(re.match('foo[1-9]+bar', 'foo42bar'))\n",
    "print(re.match('foo[1-9]?bar', 'foobar'))\n",
    "print(re.match('foo[1-9]?bar', 'foo42bar'))"
   ]
  },
  {
   "cell_type": "code",
   "execution_count": null,
   "metadata": {
    "id": "61N5Jxa7rBjB"
   },
   "outputs": [],
   "source": []
  },
  {
   "cell_type": "code",
   "execution_count": null,
   "metadata": {
    "id": "PDHJa9EOrBjC"
   },
   "outputs": [],
   "source": []
  },
  {
   "cell_type": "code",
   "execution_count": null,
   "metadata": {
    "id": "eujS_66orBjD"
   },
   "outputs": [],
   "source": []
  },
  {
   "cell_type": "code",
   "execution_count": null,
   "metadata": {
    "id": "Ehees9mXrBjD"
   },
   "outputs": [],
   "source": []
  },
  {
   "cell_type": "code",
   "execution_count": null,
   "metadata": {
    "id": "tB4LCnJErBjE",
    "outputId": "8c1cc598-553b-4540-c1d0-d9ce5c646dc0"
   },
   "outputs": [
    {
     "name": "stdout",
     "output_type": "stream",
     "text": [
      "White Spcae char \n",
      "<re.Match object; span=(9, 10), match='\\n'>\n",
      "<re.Match object; span=(11, 12), match='\\t'>\n"
     ]
    }
   ],
   "source": [
    "print(\"White Spcae char \")\n",
    "this=' this is \\n \\t  ood'\n",
    "print(re.search('\\n',this ))\n",
    "print(re.search('\\t',this ))"
   ]
  },
  {
   "cell_type": "code",
   "execution_count": null,
   "metadata": {
    "id": "enVZ0CIIrBjH"
   },
   "outputs": [],
   "source": []
  },
  {
   "cell_type": "markdown",
   "metadata": {
    "id": "O02x5_otrBjH"
   },
   "source": [
    "split -> Returns a list where the string has been split at each match"
   ]
  },
  {
   "cell_type": "markdown",
   "metadata": {
    "id": "znEvm3r9rBjH"
   },
   "source": [
    "re.split(regex, string, maxsplit=0, flags=0)\n",
    "\n",
    "Splits a string into substrings.\n",
    "\n",
    "re.split(regex, string) splits string into substrings using regex as the delimiter and returns the substrings as a list.\n",
    "\n",
    "The following example splits the specified string into substrings delimited by a comma (,), semicolon (;), or slash (/) character, surrounded by any amount of whitespace:"
   ]
  },
  {
   "cell_type": "code",
   "execution_count": null,
   "metadata": {
    "id": "qJS-RicHrBjI",
    "outputId": "1b43eb32-b3f2-4ce7-ab39-daefb96a3847"
   },
   "outputs": [
    {
     "name": "stdout",
     "output_type": "stream",
     "text": [
      "['foo', 'bar', 'baz', 'qux']\n"
     ]
    }
   ],
   "source": [
    "print(re.split('\\s*[,;/]\\s*', 'foo,bar  ;  baz / qux'))"
   ]
  },
  {
   "cell_type": "code",
   "execution_count": null,
   "metadata": {
    "id": "k5QjS3YGrBjI",
    "outputId": "b9f44446-ca2f-4e3e-ea83-1bc75ee1f42e"
   },
   "outputs": [
    {
     "name": "stdout",
     "output_type": "stream",
     "text": [
      "['The', 'rain', 'in', 'Spain']\n"
     ]
    }
   ],
   "source": [
    "# The split() function returns a list where the string has been split at each match:\n",
    "\n",
    "# Split at each white-space character:\n",
    "\n",
    "txt = \"The rain in Spain\"\n",
    "x = re.split(\"\\s\", txt)\n",
    "print(x)"
   ]
  },
  {
   "cell_type": "code",
   "execution_count": null,
   "metadata": {
    "colab": {
     "base_uri": "https://localhost:8080/"
    },
    "id": "2HvkX1mQrBjI",
    "outputId": "80a2676f-abcf-4268-c6f1-a74bdadc4582"
   },
   "outputs": [
    {
     "name": "stdout",
     "output_type": "stream",
     "text": [
      "['The', 'rain', 'in Spain']\n"
     ]
    }
   ],
   "source": [
    "# You can control the number of occurrences by specifying the maxsplit parameter:\n",
    "\n",
    "# Split the string only at the first occurrence:\n",
    "\n",
    "txt = \"The rain in Spain\"\n",
    "x = re.split(\"\\s\", txt, 2)\n",
    "print(x)"
   ]
  },
  {
   "cell_type": "code",
   "execution_count": null,
   "metadata": {
    "colab": {
     "base_uri": "https://localhost:8080/"
    },
    "id": "RKOlPd9PrBjJ",
    "outputId": "29a8e72f-d9f4-45b3-8241-4177f191b942"
   },
   "outputs": [
    {
     "name": "stdout",
     "output_type": "stream",
     "text": [
      "['hello', 'world']\n"
     ]
    }
   ],
   "source": [
    "# first lets split a string into words\n",
    "pattern = re.compile(r\"\\W\")  # Match non alphanumeric xters.\n",
    "result = pattern.split(\"hello world\")\n",
    "print(result)  # will split using the whitespace match.\n"
   ]
  },
  {
   "cell_type": "code",
   "execution_count": null,
   "metadata": {
    "colab": {
     "base_uri": "https://localhost:8080/"
    },
    "id": "Ijtu-j1sMHVW",
    "outputId": "43e8bfb6-6813-4b99-ed74-fecd9be59d0a"
   },
   "outputs": [
    {
     "name": "stdout",
     "output_type": "stream",
     "text": [
      "['I', 'have', 'a dream in code']\n"
     ]
    }
   ],
   "source": [
    "\n",
    "# specifying the maxsplit parameter\n",
    "# split a max of 2 times then return the rest of the string too.\n",
    "print(pattern.split(\"I have a dream in code\", 2))\n",
    "\n"
   ]
  },
  {
   "cell_type": "code",
   "execution_count": null,
   "metadata": {
    "colab": {
     "base_uri": "https://localhost:8080/"
    },
    "id": "VIlVWQIoMIDf",
    "outputId": "345fe342-1f9f-4c42-8c73-954330e073f6"
   },
   "outputs": [
    {
     "name": "stdout",
     "output_type": "stream",
     "text": [
      "['hello', '-', 'world']\n"
     ]
    }
   ],
   "source": [
    "# To capture the pattern too, we use groups\n",
    "p = re.compile(r\"(-)\")\n",
    "print(p.split(\"hello-world\"))  # - character is also split :-)"
   ]
  },
  {
   "cell_type": "code",
   "execution_count": null,
   "metadata": {
    "id": "TNyJy2t3rBjJ"
   },
   "outputs": [],
   "source": []
  },
  {
   "cell_type": "markdown",
   "metadata": {
    "id": "gXVkdC_LrBjJ"
   },
   "source": [
    "sub\t-> Replaces one or many matches with a string"
   ]
  },
  {
   "cell_type": "markdown",
   "metadata": {
    "id": "F0rOU7aPrBjK"
   },
   "source": [
    "re.sub(regex, repl, string) finds the leftmost non-overlapping occurrences of regex in string, replaces each match as indicated by repl, and returns the result. string remains unchanged.\n",
    "\n",
    "repl can be either a string or a function, as explained below."
   ]
  },
  {
   "cell_type": "markdown",
   "metadata": {
    "id": "XYvn1PDHrBjK"
   },
   "source": [
    "f rep> is a string, then re.sub() inserts it into string in place of any sequences that match regex:"
   ]
  },
  {
   "cell_type": "code",
   "execution_count": null,
   "metadata": {
    "colab": {
     "base_uri": "https://localhost:8080/"
    },
    "id": "j-SMlbYarBjK",
    "outputId": "214bcdb1-7e30-4448-8903-e88f4f2c0627"
   },
   "outputs": [
    {
     "name": "stdout",
     "output_type": "stream",
     "text": [
      "foo.#.bar.#.baz\n",
      "(*).123.(*).789.(*)\n"
     ]
    }
   ],
   "source": [
    "s = 'foo.123.bar.789.baz'\n",
    "print(re.sub(r'\\d+', '#', s))\n",
    "print(re.sub('[a-z]+', '(*)', s))"
   ]
  },
  {
   "cell_type": "code",
   "execution_count": null,
   "metadata": {
    "colab": {
     "base_uri": "https://localhost:8080/"
    },
    "id": "w4sa8FSDrBjK",
    "outputId": "554332bc-d99b-4ded-f100-f575c0388dfc"
   },
   "outputs": [
    {
     "name": "stdout",
     "output_type": "stream",
     "text": [
      "The9rain9in9Spain\n"
     ]
    }
   ],
   "source": [
    "# The sub() function replaces the matches with the text of your choice:\n",
    "\n",
    "# Replace every white-space character with the number 9:\n",
    "\n",
    "txt = \"The rain in Spain\"\n",
    "x = re.sub(\"\\s\", \"9\", txt)\n",
    "print(x)"
   ]
  },
  {
   "cell_type": "code",
   "execution_count": null,
   "metadata": {
    "colab": {
     "base_uri": "https://localhost:8080/"
    },
    "id": "vyzTDNgBrBjK",
    "outputId": "8e1dae98-52d4-49f0-d19a-dab033d5cbf0"
   },
   "outputs": [
    {
     "name": "stdout",
     "output_type": "stream",
     "text": [
      "The9rain9in Spain\n"
     ]
    }
   ],
   "source": [
    "# You can control the number of replacements by specifying the count parameter:\n",
    "\n",
    "# Replace the first 2 occurrences:\n",
    "\n",
    "txt = \"The rain in Spain\"\n",
    "x = re.sub(\"\\s\", \"9\", txt, 2)\n",
    "print(x)"
   ]
  },
  {
   "cell_type": "code",
   "execution_count": null,
   "metadata": {
    "colab": {
     "base_uri": "https://localhost:8080/"
    },
    "id": "HkkdgX6OrBjK",
    "outputId": "3fc960bd-3e56-4cf7-e481-7d3a8c3b6c5e"
   },
   "outputs": [
    {
     "name": "stdout",
     "output_type": "stream",
     "text": [
      "whitespace-by-hyphen\n",
      "whitespace-by-hyphen\n"
     ]
    }
   ],
   "source": [
    "# Replace whitespace\n",
    "s = re.sub( r'\\s', '-', 'whitespace by hyphen' )\n",
    "print(s)\n",
    "# Replce multiple occurences of whitespace\n",
    "print(re.sub( r'\\s{2,}', '', s ))"
   ]
  },
  {
   "cell_type": "code",
   "execution_count": null,
   "metadata": {
    "id": "xxc07W3IrBjL",
    "outputId": "7a84d407-3bc3-405d-e6cd-b1d144efb18c"
   },
   "outputs": [
    {
     "name": "stdout",
     "output_type": "stream",
     "text": [
      "there is only - thing - do\n",
      "1--0\n"
     ]
    }
   ],
   "source": [
    "pattern = re.compile(r\"[0-9]+\")\n",
    "result = pattern.sub(\"-\", \"there is only 1 thing 2 do\")\n",
    "print (result)\n",
    "\n",
    "# this example replaces matched 00 with - to\n",
    "# resulting in 1--0\n",
    "print (re.sub('00', '-', '100000'))"
   ]
  },
  {
   "cell_type": "code",
   "execution_count": null,
   "metadata": {
    "id": "4m3aeu78rBjL"
   },
   "outputs": [],
   "source": []
  },
  {
   "cell_type": "markdown",
   "metadata": {
    "id": "XdWgqkFgrBjL"
   },
   "source": [
    "Match Object<br>\n",
    "A Match Object is an object containing information about the search and the result.\n",
    "\n",
    "Note: If there is no match, the value None will be returned, instead of the Match Object."
   ]
  },
  {
   "cell_type": "markdown",
   "metadata": {
    "id": "EAFzejpqrBjL"
   },
   "source": [
    "The function returns a match object if it finds a match and None otherwise.\n",
    "\n",
    "re.match(regex, string, flags=0)\n",
    "\n",
    "Looks for a regex match at the beginning of a string.\n",
    "\n",
    "This is identical to re.search(), except that re.search() returns a match if regex matches anywhere in string, whereas re.match() returns a match only if regex matches at the beginning of string:"
   ]
  },
  {
   "cell_type": "code",
   "execution_count": null,
   "metadata": {
    "colab": {
     "base_uri": "https://localhost:8080/"
    },
    "id": "xHBHsITnrBjL",
    "outputId": "9e196046-b0b8-4f88-c84f-2dc0d14d25b8"
   },
   "outputs": [
    {
     "name": "stdout",
     "output_type": "stream",
     "text": [
      "<_sre.SRE_Match object; span=(0, 3), match='123'>\n",
      "<_sre.SRE_Match object; span=(3, 6), match='123'>\n",
      "<_sre.SRE_Match object; span=(0, 3), match='123'>\n",
      "None\n"
     ]
    }
   ],
   "source": [
    "print(re.search(r'\\d+', '123foobar'))\n",
    "print(re.search(r'\\d+', 'foo123bar'))\n",
    "print(re.match(r'\\d+', '123foobar'))\n",
    "print(re.match(r'\\d+', 'foo123bar'))"
   ]
  },
  {
   "cell_type": "code",
   "execution_count": null,
   "metadata": {
    "colab": {
     "base_uri": "https://localhost:8080/"
    },
    "id": "VThb8bWArBjN",
    "outputId": "814078a2-e2df-449b-a3f4-5ee0509cb942"
   },
   "outputs": [
    {
     "name": "stdout",
     "output_type": "stream",
     "text": [
      "<re.Match object; span=(0, 3), match='you'>\n",
      "None\n",
      "None\n"
     ]
    }
   ],
   "source": [
    "print(re.match(\"you\" , \"you are not good.\"))\n",
    "print(re.match(\"are\" , \"you are not good.\"))\n",
    "print(re.match(\"good.\", \"you are not good.\"))\n"
   ]
  },
  {
   "cell_type": "markdown",
   "metadata": {
    "id": "cQ-NME5srBjM"
   },
   "source": [
    "The Match object has properties and methods used to retrieve information about the search, and the result:\n",
    "\n",
    ".span() returns a tuple containing the start-, and end positions of the match.<br>\n",
    ".string returns the string passed into the function<br>\n",
    ".group() returns the part of the string where there was a match\n"
   ]
  },
  {
   "cell_type": "code",
   "execution_count": null,
   "metadata": {
    "colab": {
     "base_uri": "https://localhost:8080/"
    },
    "id": "jfO9PNVwOrnQ",
    "outputId": "84a43d35-6197-4469-ceb9-ba9290c5549a"
   },
   "outputs": [
    {
     "data": {
      "text/plain": [
       "(0, 3)"
      ]
     },
     "execution_count": 69,
     "metadata": {
      "tags": []
     },
     "output_type": "execute_result"
    }
   ],
   "source": [
    "re.match(r'\\d+', '123foobar').span()"
   ]
  },
  {
   "cell_type": "code",
   "execution_count": null,
   "metadata": {
    "colab": {
     "base_uri": "https://localhost:8080/",
     "height": 35
    },
    "id": "eesCbgtUOw2n",
    "outputId": "018c0472-7c7f-4de6-cf29-f304dd3c95f4"
   },
   "outputs": [
    {
     "data": {
      "text/plain": [
       "'123foobar'"
      ]
     },
     "execution_count": 70,
     "metadata": {
      "tags": []
     },
     "output_type": "execute_result"
    }
   ],
   "source": [
    "re.match(r'\\d+', '123foobar').string"
   ]
  },
  {
   "cell_type": "code",
   "execution_count": null,
   "metadata": {
    "colab": {
     "base_uri": "https://localhost:8080/",
     "height": 35
    },
    "id": "eO68NlyCOzkQ",
    "outputId": "c330bace-8816-4b04-97ef-900e5a12175e"
   },
   "outputs": [
    {
     "data": {
      "text/plain": [
       "'123'"
      ]
     },
     "execution_count": 71,
     "metadata": {
      "tags": []
     },
     "output_type": "execute_result"
    }
   ],
   "source": [
    "re.match(r'\\d+', '123foobar').group()"
   ]
  },
  {
   "cell_type": "code",
   "execution_count": null,
   "metadata": {
    "colab": {
     "base_uri": "https://localhost:8080/"
    },
    "id": "FBiUZbS5rBjM",
    "outputId": "ea4f832b-0c96-4f7d-93d4-18aba8f3e0fa"
   },
   "outputs": [
    {
     "name": "stdout",
     "output_type": "stream",
     "text": [
      "(12, 17)\n"
     ]
    }
   ],
   "source": [
    "# Print the position (start- and end-position) of the first match occurrence.\n",
    "\n",
    "# The regular expression looks for any words that starts with an upper case \"ə\":\n",
    "\n",
    "txt = \"Bu gün hava əladı\"\n",
    "x = re.search(r\"\\bə\\w+\", txt)\n",
    "print(x.span())"
   ]
  },
  {
   "cell_type": "code",
   "execution_count": null,
   "metadata": {
    "colab": {
     "base_uri": "https://localhost:8080/"
    },
    "id": "TstYYVg_rBjM",
    "outputId": "4da34d92-e0d4-41d2-f1c2-2e7d4c6de242"
   },
   "outputs": [
    {
     "name": "stdout",
     "output_type": "stream",
     "text": [
      "Bu gün hava əladı\n"
     ]
    }
   ],
   "source": [
    "# Print the string passed into the function:\n",
    "\n",
    "txt = \"Bu gün hava əladı\"\n",
    "x = re.search(r\"\\bə\\w+\", txt)\n",
    "print(x.string)"
   ]
  },
  {
   "cell_type": "markdown",
   "metadata": {
    "id": "AnXdg0jDrBjO"
   },
   "source": [
    "Pattern Rules"
   ]
  },
  {
   "cell_type": "code",
   "execution_count": null,
   "metadata": {
    "id": "WHj7G2AQrBjO",
    "outputId": "0fc4e2ed-adab-4ed3-b5fd-93c25adcace7"
   },
   "outputs": [
    {
     "name": "stdout",
     "output_type": "stream",
     "text": [
      " pattern rules\n",
      "['xyy', 'x', 'x', 'x', 'x', 'xyyyy', 'x', 'x', 'x', 'x', 'xyy']\n",
      "['xyy', 'xyyyy', 'xyy']\n",
      "['x', 'y', 'y', 'x', 'x', 'x', 'x', 'x', 'y', 'y', 'y', 'y', 'x', 'x', 'x', 'x', 'x', 'y', 'y']\n",
      "['t']\n",
      "['g']\n",
      "['xy', 'x', 'x', 'x', 'x', 'xy', 'x', 'x', 'x', 'x', 'xy']\n",
      "['yy', 'yy', 'yy', 'yy']\n",
      "['xxxxx', 'xxxxx']\n",
      "['xyy', 'xyyy', 'xyy']\n",
      "['x', 'x', 'x', 'x', 'x', 'x', 'x', 'x', 'x', 'x', 'x']\n",
      "['y', 'y', 'y', 'y', 'y', 'y', 'y', 'y']\n",
      "['x', 'x', 'x', 'x', 'x', 'x', 'x', 'x', 'x', 'x', 'x']\n",
      "['x', 'y', 'y', 'x', 'x', 'x', 'x', 'x', 'y', 'y', 'y', 'y', 'x', 'x', 'x', 'x', 'x', 'y', 'y']\n",
      "['yxx', 'yxx']\n"
     ]
    }
   ],
   "source": [
    "print(\" pattern rules\")\n",
    "\n",
    "print(re.findall(r'xy*' , 'xyyxxxxxyyyyxxxxxyy'))\n",
    "print(re.findall(r'xy+' , 'xyyxxxxxyyyyxxxxxyy'))\n",
    "print(re.findall(r'.' , 'xyyxxxxxyyyyxxxxxyy'))\n",
    "print(re.findall(r'^t' , 'this is string'))\n",
    "print(re.findall(r'g$' , 'this is string'))\n",
    "print(re.findall(r'xy?' , 'xyyxxxxxyyyyxxxxxyy'))\n",
    "print(re.findall(r'yy+?' , 'xyyxxxxxyyyyxxxxxyy'))\n",
    "print(re.findall(r'x{2,}' , 'xyyxxxxxyyyyxxxxxyy'))\n",
    "print(re.findall(r'xy{1,3}' , 'xyyxxxxxyyyyxxxxxyy'))\n",
    "print(re.findall(r'[a-x]' , 'xyyxxxxxyyyyxxxxxyy'))\n",
    "print(re.findall(r'[^x]' , 'xyyxxxxxyyyyxxxxxyy'))\n",
    "print(re.findall(r'[x^]' , 'xyyxxxxxyyyyxxxxxyy'))\n",
    "print(re.findall(r'y|x' , 'xyyxxxxxyyyyxxxxxyy'))\n",
    "print(re.findall(r'(yxx)' , 'xyyxxxxxyyyyxxxxxyy'))"
   ]
  },
  {
   "cell_type": "code",
   "execution_count": null,
   "metadata": {
    "id": "4rVDuSdXrBjO",
    "outputId": "dab129ab-604f-4638-ebc3-3434b54dc902"
   },
   "outputs": [
    {
     "name": "stdout",
     "output_type": "stream",
     "text": [
      "Special char\n",
      "['you']\n",
      "['', '', '', '', '', '', '', '', '', '', '', '', '', '', '', '', '', '', '', '', '', '']\n",
      "['', '', '', '', '', '', '', '', '', '', '', '', '', '', '', '', '', '', '', '', '', '', '']\n",
      "['4', '7', '2', '1', '4', '5', '6', '4', '5', '3', '4', '5', '7']\n",
      "['y', 'o', 'u', ' ', 'a', 'r', 'e', ' ', ' ', '-', ' ', 'i', 's', ' ', '.', ' ', 'a', 'b', ' ', 'n', 'o', 't', ' ', 'g', 'o', 'o', 'd', '.', ' ', 'o', 'r']\n",
      "[' ', ' ', ' ', ' ', ' ', ' ', ' ', ' ', ' ']\n",
      "['y', 'o', 'u', 'a', 'r', 'e', '4', '7', '-', '2', '1', 'i', 's', '4', '.', '5', '6', 'a', 'b', '4', '5', '3', '4', '5', '7', 'n', 'o', 't', 'g', 'o', 'o', 'd', '.', 'o', 'r']\n",
      "['y', 'o', 'u', 'a', 'r', 'e', '4', '7', '2', '1', 'i', 's', '4', '5', '6', 'a', 'b', '4', '5', '3', '4', '5', '7', 'n', 'o', 't', 'g', 'o', 'o', 'd', 'o', 'r']\n",
      "[' ', ' ', ' ', '-', ' ', ' ', '.', ' ', ' ', ' ', '.', ' ']\n",
      "['or']\n"
     ]
    }
   ],
   "source": [
    "print('Special char')\n",
    "strings='you are 47 -21 is 4.56 ab453457 not good. or'\n",
    "print(re.findall(r'\\Ayou',strings))\n",
    "print(re.findall(r'\\b',strings))\n",
    "print(re.findall(r'\\B',strings))\n",
    "print(re.findall(r'\\d',strings))\n",
    "print(re.findall(r'\\D',strings))\n",
    "print(re.findall(r'\\s',strings))\n",
    "print(re.findall(r'\\S',strings))\n",
    "print(re.findall(r'\\w',strings))\n",
    "print(re.findall(r'\\W',strings))\n",
    "print(re.findall(r'or\\Z',strings))"
   ]
  }
 ],
 "metadata": {
  "colab": {
   "name": "regex_week2_day1.ipynb",
   "provenance": []
  },
  "kernelspec": {
   "display_name": "Python 3",
   "language": "python",
   "name": "python3"
  },
  "language_info": {
   "codemirror_mode": {
    "name": "ipython",
    "version": 3
   },
   "file_extension": ".py",
   "mimetype": "text/x-python",
   "name": "python",
   "nbconvert_exporter": "python",
   "pygments_lexer": "ipython3",
   "version": "3.8.5"
  }
 },
 "nbformat": 4,
 "nbformat_minor": 1
}
